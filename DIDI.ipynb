{
 "cells": [
  {
   "cell_type": "markdown",
   "metadata": {},
   "source": [
    "# 给定两个有序整型数组，计算中位数"
   ]
  },
  {
   "cell_type": "markdown",
   "metadata": {},
   "source": [
    "对于两个有序数组，我们要找第k小的数<br>\n",
    "由于时间复制度要求是log，所以自然的想法就是对两个数组每次切一半"
   ]
  },
  {
   "cell_type": "code",
   "execution_count": 5,
   "metadata": {},
   "outputs": [],
   "source": [
    "def findMedianSortedArrays(nums1,nums2):\n",
    "    k1 = ( len(nums1) + len(nums2) + 1 ) // 2\n",
    "    k2 = ( len(nums1) + len(nums2) + 2 ) // 2\n",
    "    def midNums(nums1,nums2,k):\n",
    "        if len(nums1)<len(nums2):\n",
    "            nums1,nums2 = nums2,nums1#保持长数组在前\n",
    "        if not nums2:\n",
    "            return nums1[k-1]#如果短数组为空，直接返回\n",
    "        if k == 1:\n",
    "            return min(nums1[0],nums2[0])\n",
    "        t = min(k//2,len(nums2))#保证数组不溢出\n",
    "        if nums1[t-1]>nums2[t-1]:\n",
    "            return midNums(nums1,nums2[t:],k-t)\n",
    "        else:\n",
    "            return midNums(nums1[t:],nums2,k-t)\n",
    "    return (midNums(nums1,nums2,k1)+midNums(nums1,nums2,k2))/2"
   ]
  },
  {
   "cell_type": "code",
   "execution_count": 6,
   "metadata": {},
   "outputs": [],
   "source": [
    "nums1 = [1,2]\n",
    "nums2 = [3,4]"
   ]
  },
  {
   "cell_type": "code",
   "execution_count": 7,
   "metadata": {},
   "outputs": [
    {
     "data": {
      "text/plain": [
       "2.5"
      ]
     },
     "execution_count": 7,
     "metadata": {},
     "output_type": "execute_result"
    }
   ],
   "source": [
    "findMedianSortedArrays(nums1,nums2)"
   ]
  },
  {
   "cell_type": "markdown",
   "metadata": {},
   "source": [
    "# 非平衡二叉树，层次遍历节点值"
   ]
  },
  {
   "cell_type": "code",
   "execution_count": 8,
   "metadata": {},
   "outputs": [],
   "source": [
    "def PrintFromTopToBottom(root):\n",
    "    if not root:\n",
    "        return root\n",
    "    stack = []\n",
    "    res = []\n",
    "    stack.append(stack)\n",
    "    while stack:\n",
    "        pos = stack.pop(0)\n",
    "        res.append(pos.val)\n",
    "        if pos.left:\n",
    "            stack.append(pos.left)\n",
    "        if pos.right:\n",
    "            stack.append(pos.right)\n",
    "    return res"
   ]
  },
  {
   "cell_type": "markdown",
   "metadata": {},
   "source": [
    "# 蛇形打印二叉树"
   ]
  },
  {
   "cell_type": "code",
   "execution_count": 9,
   "metadata": {},
   "outputs": [],
   "source": [
    "def zigzagLevelOrder(root):\n",
    "    if not root: return []\n",
    "    res = []\n",
    "    cur_level = [root]\n",
    "    depth = 0\n",
    "    while cur_level:\n",
    "        tmp = []\n",
    "        next_level = []\n",
    "        for node in cur_level:\n",
    "            tmp.append(node.val)\n",
    "            if node.left:\n",
    "                next_level.append(node.left)\n",
    "            if node.right:\n",
    "                next_level.append(node.right)\n",
    "        if depth % 2 == 1:\n",
    "            res.append(tmp[::-1])\n",
    "        else:\n",
    "            res.append(tmp)\n",
    "        depth += 1\n",
    "        cur_level = next_level\n",
    "    return res"
   ]
  },
  {
   "cell_type": "markdown",
   "metadata": {},
   "source": [
    "# 给定一个整形数组，请找出所有三项相加和为0的数字组合"
   ]
  },
  {
   "cell_type": "code",
   "execution_count": 10,
   "metadata": {},
   "outputs": [],
   "source": [
    "def threeSum(nums):\n",
    "    nums.sort()\n",
    "    tuple_list = []\n",
    "    for i in range(len(nums)-2):\n",
    "        l = i+1\n",
    "        r = len(nums)-1\n",
    "        if nums[i] > 0:\n",
    "            break\n",
    "        if i>0 and nums[i] == nums[i-1]:\n",
    "            continue\n",
    "        while l<r:\n",
    "            result = nums[i]+nums[l]+nums[r]\n",
    "            if result > 0:\n",
    "                r -= 1\n",
    "                while l < r and nums[r]==nums[r+1]:\n",
    "                    r -= 1\n",
    "            elif result < 0:\n",
    "                l += 1\n",
    "                while l < r and nums[l]==nums[l-1]:\n",
    "                    l += 1\n",
    "            else:\n",
    "                tuple_list.append([nums[i],nums[l],nums[r]])\n",
    "                l += 1\n",
    "                r -= 1\n",
    "                while l < r and nums[l]==nums[l-1]:\n",
    "                    l += 1\n",
    "                while l < r and nums[r]==nums[r+1]:\n",
    "                    r -= 1\n",
    "    return tuple_list"
   ]
  },
  {
   "cell_type": "markdown",
   "metadata": {},
   "source": [
    "# 文本最小编辑距离"
   ]
  },
  {
   "cell_type": "markdown",
   "metadata": {},
   "source": [
    "两个字符串，计算出str1转换成str2所使用的最小操作数，只能进行如下三种操作，插入一个字符，删除一个字符，替换一个字符"
   ]
  },
  {
   "cell_type": "code",
   "execution_count": 11,
   "metadata": {},
   "outputs": [],
   "source": [
    "def edite_dis(a,b):\n",
    "    dp = [[0]*(len(b)+1) for i in range(len(a)+1)]\n",
    "    for i in range(1,len(a)+1):\n",
    "        dp[i][0] = i\n",
    "    for j in range(1,len(b)+1):\n",
    "        dp[0][j] = j\n",
    "    for i in range(1,len(a)+1):\n",
    "        for j in range(1,len(b)+1):\n",
    "            if a[i-1]==b[j-1]:\n",
    "                dp[i][j] = dp[i-1][j-1]\n",
    "            else:\n",
    "                dp[i][j] = min(dp[i-1][j-1]+1,dp[i-1][j]+1,dp[i][j-1]+1)\n",
    "    return dp[-1][-1]"
   ]
  },
  {
   "cell_type": "markdown",
   "metadata": {},
   "source": [
    "# 深度优先遍历/广度优先遍历二叉树"
   ]
  },
  {
   "cell_type": "code",
   "execution_count": 12,
   "metadata": {},
   "outputs": [],
   "source": [
    "#队列先进显出实现广度优先\n",
    "def BFS(root):\n",
    "    if not root:\n",
    "        return root\n",
    "    stack = [root]\n",
    "    res = []\n",
    "    while stack:\n",
    "        pos = stack.pop(0)#区别在这里，先进先出\n",
    "        res.append(pos.val)\n",
    "        if pos.left:\n",
    "            stack.append(pos.left)\n",
    "        if pos.right:\n",
    "            stack.append(pos.right)\n",
    "    return res"
   ]
  },
  {
   "cell_type": "code",
   "execution_count": 13,
   "metadata": {},
   "outputs": [],
   "source": [
    "#栈后进先出实现深度优先\n",
    "def DFS(root):\n",
    "    if not root:\n",
    "        return root\n",
    "    stack = [root]\n",
    "    res = []\n",
    "    while stack:\n",
    "        pos = stack.pop()#区别在这里，后进先出\n",
    "        res.append(pos.val)\n",
    "        if pos.left:\n",
    "            stack.append(pos.left)\n",
    "        if pos.right:\n",
    "            stack.append(pos.right)\n",
    "    return res"
   ]
  },
  {
   "cell_type": "markdown",
   "metadata": {},
   "source": [
    "# 二叉树非递归遍历"
   ]
  },
  {
   "cell_type": "code",
   "execution_count": null,
   "metadata": {},
   "outputs": [],
   "source": [
    "def inOrderTraverse(node):\n",
    "    stack = []\n",
    "    pos = node\n",
    "    res = []\n",
    "    while pos is not None or len(stack) > 0:\n",
    "        while pos is not None:\n",
    "            stack.append(pos)\n",
    "            pos = pos.left\n",
    "        if stack:\n",
    "            pos = stack.pop()\n",
    "            res.append(pos.val)\n",
    "            pos = pos.right\n",
    "    return res"
   ]
  },
  {
   "cell_type": "markdown",
   "metadata": {},
   "source": [
    "# K-means"
   ]
  },
  {
   "cell_type": "code",
   "execution_count": 18,
   "metadata": {},
   "outputs": [],
   "source": [
    "from numpy import *\n",
    "def distEclud(vecA, vecB):\n",
    "    return sqrt(sum(power(vecA-vecB,2)))\n",
    "\n",
    "def randCent(dataSet, k):\n",
    "    n = shape(dataSet)[1]\n",
    "    centroids = mat(zeros((k,n)))   # 每个质心有n个坐标值，总共要k个质心\n",
    "    for j in range(n):\n",
    "        minJ = min(dataSet[:,j])\n",
    "        maxJ = max(dataSet[:,j])\n",
    "        rangeJ = float(maxJ - minJ)\n",
    "        centroids[:,j] = minJ + rangeJ * random.rand(k, 1)\n",
    "    return centroids\n",
    "\n",
    "def kMeans(dataSet, k, distMeans =distEclud, createCent = randCent):\n",
    "    m = shape(dataSet)[0]\n",
    "    clusterAssment = mat(zeros((m,2)))    # 用于存放该样本属于哪类及质心距离\n",
    "    # clusterAssment第一列存放该数据所属的中心点，第二列是该数据到中心点的距离\n",
    "    centroids = createCent(dataSet, k)\n",
    "    clusterChanged = True   # 用来判断聚类是否已经收敛\n",
    "    while clusterChanged:\n",
    "        clusterChanged = False;\n",
    "        for i in range(m):  # 把每一个数据点划分到离它最近的中心点\n",
    "            minDist = inf; minIndex = -1;\n",
    "            for j in range(k):\n",
    "                distJI = distMeans(centroids[j,:], dataSet[i,:])\n",
    "                if distJI < minDist:\n",
    "                    minDist = distJI; minIndex = j  # 如果第i个数据点到第j个中心点更近，则将i归属为j\n",
    "            if clusterAssment[i,0] != minIndex: clusterChanged = True;  # 如果分配发生变化，则需要继续迭代\n",
    "            clusterAssment[i,:] = minIndex,minDist**2   # 并将第i个数据点的分配情况存入字典\n",
    "        for cent in range(k):   # 重新计算中心点\n",
    "            ptsInClust = dataSet[nonzero(clusterAssment[:,0].A == cent)[0]]   # 去第一列等于cent的所有列\n",
    "            centroids[cent,:] = mean(ptsInClust, axis = 0)  # 算出这些数据的中心点\n",
    "    return centroids, clusterAssment"
   ]
  },
  {
   "cell_type": "code",
   "execution_count": 20,
   "metadata": {},
   "outputs": [
    {
     "data": {
      "text/plain": [
       "-inf"
      ]
     },
     "execution_count": 20,
     "metadata": {},
     "output_type": "execute_result"
    }
   ],
   "source": [
    "-inf"
   ]
  },
  {
   "cell_type": "code",
   "execution_count": null,
   "metadata": {},
   "outputs": [],
   "source": []
  }
 ],
 "metadata": {
  "kernelspec": {
   "display_name": "Python 3.6.2 64-bit ('mrchef': conda)",
   "language": "python",
   "name": "python36264bitmrchefconda9c27506f5272424a966a5467316f880a"
  },
  "language_info": {
   "codemirror_mode": {
    "name": "ipython",
    "version": 3
   },
   "file_extension": ".py",
   "mimetype": "text/x-python",
   "name": "python",
   "nbconvert_exporter": "python",
   "pygments_lexer": "ipython3",
   "version": "3.6.2"
  }
 },
 "nbformat": 4,
 "nbformat_minor": 2
}
