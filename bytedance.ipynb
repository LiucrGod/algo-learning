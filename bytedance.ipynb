{
 "cells": [
  {
   "cell_type": "markdown",
   "metadata": {},
   "source": [
    "# 矩阵的最大子矩阵"
   ]
  },
  {
   "cell_type": "code",
   "execution_count": 505,
   "metadata": {},
   "outputs": [],
   "source": [
    "def getMaxMatrix(matrix):\n",
    "    def getMaxSeq(nums):\n",
    "        dp = [0]*len(nums)\n",
    "        max_loc = [[0,0],nums[0]]\n",
    "        dp[0] = nums[0]\n",
    "        for i in range(1,len(nums)):\n",
    "            if nums[i]>max_loc[1]+nums[i]:\n",
    "                dp[i] = nums[i]\n",
    "                max_loc = [[i,i],dp[i]]\n",
    "            else:\n",
    "                dp[i] = dp[i-1]+nums[i]\n",
    "                if dp[i]>max_loc[1]:\n",
    "                    max_loc[0][1]  = i\n",
    "                    max_loc[1] = dp[i]\n",
    "        return max_loc\n",
    "    loc = [[0,0,0,0],0]\n",
    "    for i in range(len(matrix)-1,-1,-1):\n",
    "        for j in range(i,len(matrix)):\n",
    "            temp = [0]*len(matrix[j])\n",
    "            for m in range(i,j+1):\n",
    "                for k in range(len(matrix[m])):\n",
    "                    temp[k] += matrix[m][k]\n",
    "                temp_loc = getMaxSeq(temp)\n",
    "                if temp_loc[1] >= loc[1]:\n",
    "                    loc[0][0] = i\n",
    "                    loc[0][1] = temp_loc[0][0]\n",
    "                    loc[0][2] = m\n",
    "                    loc[0][3] = temp_loc[0][1]\n",
    "                    loc[1] = temp_loc[1]\n",
    "    return loc"
   ]
  },
  {
   "cell_type": "code",
   "execution_count": 506,
   "metadata": {},
   "outputs": [],
   "source": [
    "nums = [[-5208, 1041, -93779, -64152, 17850, 29055, -63731, -23568, 41170, 58457, -39616, 55683, -51662, -75015, 21726], [4535, -72412, 86878, -60825, 67088, 48794, -23471, -22403, 58200, -31153, -94668, -27274, -11003, 33894, -66125], [-9538, -33861, 54822, 42636, 48430, -56030, -33348, -30617, 5219, 56501, -95879, -73537, -18157, -72815, -40977], [15602, 40115, -32475, 99011, 47251, 84035, 83793, -74389, -99042, 65460, 11671, -95294, 68311, 47893, 71866], [69607, 57288, 55022, 36610, -75113, 31344, 34319, -13381, -74800, -71904, -15625, -5398, -29689, -68805, -41994], [-32276, 95017, -96452, -47311, 13238, 46324, 95358, 13247, -30930, 5815, -36748, -25712, -83982, 29391, -73922], [-29140, -70403, -3168, 12219, -4473, -10013, -85502, 87222, -44858, 66506, -99821, -16992, -80758, 59210, 87145], [-9557, 67725, -27359, -28647, 46781, -67948, -28154, -3498, 91489, -3887, -96422, 6568, 42380, 73264, -55406], [40555, 70153, -51490, -14237, 9684, -54000, -8443, -32063, -96157, -70083, -7050, 56221, 93013, -1157, -45593], [-28686, -54296, 628, 11189, 18227, -64455, -10528, -69244, 94796, -39806, 69194, 45024, -14417, -51291, 6387], [-28485, 36898, 97259, -83875, 83650, -36715, 80692, -55055, 40025, -69379, -1548, -13045, 23318, 79349, -42774], [82645, 17721, 84052, -35036, -751, 90269, -77187, 51972, -90217, -5956, -34552, 95560, 40436, 51650, 72778], [-970, 77788, 10423, -1406, -90844, 6732, -60197, 59393, -82111, 33737, -4731, -52679, -12011, 69741, -91931]]"
   ]
  },
  {
   "cell_type": "code",
   "execution_count": 507,
   "metadata": {},
   "outputs": [
    {
     "data": {
      "text/plain": [
       "[[1, 0, 5, 6], 684005]"
      ]
     },
     "execution_count": 507,
     "metadata": {},
     "output_type": "execute_result"
    }
   ],
   "source": [
    "getMaxMatrix(nums)"
   ]
  },
  {
   "cell_type": "markdown",
   "metadata": {},
   "source": [
    "# 接雨水"
   ]
  },
  {
   "cell_type": "code",
   "execution_count": 508,
   "metadata": {},
   "outputs": [],
   "source": [
    "def trap(nums):\n",
    "    left = 0\n",
    "    right = len(nums)-1\n",
    "    flag = 0\n",
    "    surface = 0\n",
    "    while left <= right:\n",
    "        tmp = min(nums[left],nums[right])\n",
    "        if tmp > flag:\n",
    "            surface += (tmp-flag)*(right-left+1)\n",
    "            flag = tmp\n",
    "        while left<=right and nums[left]<=flag:\n",
    "            left += 1\n",
    "        while left<=right and nums[right]<=flag:\n",
    "            right -= 1\n",
    "    return surface - sum(nums)"
   ]
  },
  {
   "cell_type": "code",
   "execution_count": 509,
   "metadata": {},
   "outputs": [],
   "source": [
    "nums = [0,1,0,2,1,0,1,3,2,1,2,1]"
   ]
  },
  {
   "cell_type": "code",
   "execution_count": 510,
   "metadata": {},
   "outputs": [
    {
     "data": {
      "text/plain": [
       "6"
      ]
     },
     "execution_count": 510,
     "metadata": {},
     "output_type": "execute_result"
    }
   ],
   "source": [
    "trap(nums)"
   ]
  },
  {
   "cell_type": "markdown",
   "metadata": {},
   "source": [
    "# 最小覆盖子串"
   ]
  },
  {
   "cell_type": "code",
   "execution_count": 518,
   "metadata": {},
   "outputs": [],
   "source": [
    "from collections import defaultdict\n",
    "def minWindow(s, t):\n",
    "    mark_dic =  defaultdict(int)\n",
    "    for c in t:\n",
    "        mark_dic[c]+=1\n",
    "    need_count = len(t)#表示需要元素的总数量，为0时代表该窗口满足条件\n",
    "    i = 0\n",
    "    max_loc = [0,float('inf')]\n",
    "    for j,c in enumerate(s):\n",
    "        if mark_dic[c]>0:\n",
    "            need_count -= 1\n",
    "        mark_dic[c] -= 1\n",
    "        if need_count == 0:\n",
    "            while True:\n",
    "                if mark_dic[s[i]]==0:#不是子集的元素由于初始是0，所以在下面操作才会为0，不会被判断;如果字符只有一个，已经为0，\n",
    "                    #直接跳出，不能缩小窗口，否则会去除重复，只留下最后一个字符\n",
    "                    break\n",
    "                mark_dic[s[i]]+=1\n",
    "                i+=1\n",
    "            if j-i < max_loc[1]-max_loc[0]:\n",
    "                max_loc = [i,j]\n",
    "            mark_dic[s[i]] += 1#删除最后一个满足条件的字符，计数器+1\n",
    "            need_count += 1\n",
    "            i+=1\n",
    "    if max_loc[1]>len(s):return \"\" \n",
    "    else: return s[max_loc[0]:max_loc[1]+1]\n",
    "    "
   ]
  },
  {
   "cell_type": "code",
   "execution_count": 519,
   "metadata": {},
   "outputs": [],
   "source": [
    "s = \"ADOBECODEBANC\"\n",
    "t = 'ABC'"
   ]
  },
  {
   "cell_type": "code",
   "execution_count": 520,
   "metadata": {},
   "outputs": [
    {
     "data": {
      "text/plain": [
       "'BANC'"
      ]
     },
     "execution_count": 520,
     "metadata": {},
     "output_type": "execute_result"
    }
   ],
   "source": [
    "minWindow(s,t)"
   ]
  },
  {
   "cell_type": "code",
   "execution_count": 514,
   "metadata": {},
   "outputs": [
    {
     "name": "stdout",
     "output_type": "stream",
     "text": [
      "inf\n"
     ]
    }
   ],
   "source": [
    "print(float('inf')-1)"
   ]
  },
  {
   "cell_type": "markdown",
   "metadata": {},
   "source": [
    "# 柱状图中的最大矩形"
   ]
  },
  {
   "cell_type": "code",
   "execution_count": 599,
   "metadata": {},
   "outputs": [],
   "source": [
    "def largestRectangleArea(heights):\n",
    "    max_height = 0\n",
    "    stack = []\n",
    "    heights = [0]+heights+[0]\n",
    "    for i in range(len(heights)):\n",
    "        print(stack)\n",
    "        while stack and heights[stack[-1]]>heights[i]:\n",
    "            top = stack.pop()\n",
    "            max_height = max(max_height,heights[top]*(i-stack[-1]-1))\n",
    "        stack.append(i)\n",
    "    return max_height"
   ]
  },
  {
   "cell_type": "code",
   "execution_count": 600,
   "metadata": {},
   "outputs": [],
   "source": [
    "nums = [2,1,5,6,2,3]"
   ]
  },
  {
   "cell_type": "code",
   "execution_count": 601,
   "metadata": {},
   "outputs": [
    {
     "name": "stdout",
     "output_type": "stream",
     "text": [
      "[]\n",
      "[0]\n",
      "[0, 1]\n",
      "[0, 2]\n",
      "[0, 2, 3]\n",
      "[0, 2, 3, 4]\n",
      "[0, 2, 5]\n",
      "[0, 2, 5, 6]\n"
     ]
    },
    {
     "data": {
      "text/plain": [
       "10"
      ]
     },
     "execution_count": 601,
     "metadata": {},
     "output_type": "execute_result"
    }
   ],
   "source": [
    "largestRectangleArea(nums)"
   ]
  },
  {
   "cell_type": "markdown",
   "metadata": {},
   "source": [
    "# 最长连续序列"
   ]
  },
  {
   "cell_type": "code",
   "execution_count": 626,
   "metadata": {},
   "outputs": [],
   "source": [
    "def longestConsecutive(nums):\n",
    "    max_length = 0\n",
    "    range_dict = dict()\n",
    "    for i in range(len(nums)):\n",
    "        if nums[i] not in range_dict:\n",
    "            left = range_dict.get(nums[i]-1,0)\n",
    "            right = range_dict.get(nums[i]+1,0)\n",
    "            range_tmp = right+left+1\n",
    "            if range_tmp>max_length:\n",
    "                max_length = range_tmp\n",
    "            range_dict[nums[i]] = range_tmp\n",
    "            range_dict[nums[i]-left] = range_tmp\n",
    "            range_dict[nums[i]+right] = range_tmp\n",
    "    return max_length"
   ]
  },
  {
   "cell_type": "code",
   "execution_count": 627,
   "metadata": {},
   "outputs": [],
   "source": [
    "nums = [1,2,0,1]"
   ]
  },
  {
   "cell_type": "markdown",
   "metadata": {},
   "source": [
    "# 最大矩形"
   ]
  },
  {
   "cell_type": "markdown",
   "metadata": {},
   "source": [
    "与矩阵中的最大子矩阵类似，先将状态压缩，在将压缩后的状态求啊最大"
   ]
  },
  {
   "cell_type": "code",
   "execution_count": 641,
   "metadata": {},
   "outputs": [],
   "source": [
    "def maximalRectangle(matrix):\n",
    "    def max_angle(nums):\n",
    "        stack = []\n",
    "        max_area = 0\n",
    "        nums = [0]+nums+[0]\n",
    "        for i in range(len(nums)):\n",
    "            while stack and nums[i] < nums[stack[-1]]:\n",
    "                pos = stack.pop()\n",
    "                max_area = max(max_area,nums[pos]*(i-stack[-1]-1))\n",
    "            stack.append(i)\n",
    "        return max_area\n",
    "    max_range = 0\n",
    "    for i in range(len(matrix)-1,-1,-1):\n",
    "        temp = [0]*len(matrix[i])\n",
    "        for j in range(len(matrix[i])):\n",
    "            if matrix[i][j] == '0':\n",
    "                continue\n",
    "            flag = i\n",
    "            while flag>=0 and matrix[flag][j]=='1':\n",
    "                temp[j] += 1\n",
    "                flag-=1\n",
    "        max_range = max(max_range,max_angle(temp))\n",
    "    return max_range"
   ]
  },
  {
   "cell_type": "code",
   "execution_count": 642,
   "metadata": {},
   "outputs": [],
   "source": [
    "matrix = [[\"1\",\"0\",\"1\",\"0\",\"0\"],[\"1\",\"0\",\"1\",\"1\",\"1\"],[\"1\",\"1\",\"1\",\"1\",\"1\"],[\"1\",\"0\",\"0\",\"1\",\"0\"]]"
   ]
  },
  {
   "cell_type": "code",
   "execution_count": 643,
   "metadata": {},
   "outputs": [
    {
     "data": {
      "text/plain": [
       "6"
      ]
     },
     "execution_count": 643,
     "metadata": {},
     "output_type": "execute_result"
    }
   ],
   "source": [
    "maximalRectangle(matrix)"
   ]
  },
  {
   "cell_type": "markdown",
   "metadata": {},
   "source": [
    "# 滑动窗口最大值"
   ]
  },
  {
   "cell_type": "code",
   "execution_count": 698,
   "metadata": {},
   "outputs": [],
   "source": [
    "def maxSlidingWindow(nums,k):\n",
    "    tmp_max = max(nums[:k])\n",
    "    result = [tmp_max]\n",
    "    for i in range(k,len(nums)):\n",
    "        if nums[i]>tmp_max:\n",
    "            tmp_max = nums[i]\n",
    "        else:\n",
    "            if nums[i-k] == tmp_max:\n",
    "                tmp_max = max(nums[i-k+1:i+1])\n",
    "        result.append(tmp_max)\n",
    "    return result"
   ]
  },
  {
   "cell_type": "code",
   "execution_count": 724,
   "metadata": {},
   "outputs": [],
   "source": [
    "from collections import deque\n",
    "def maxSlidingWindow(nums,k):\n",
    "    q = deque()\n",
    "    ans = []\n",
    "    for i,num in enumerate(nums):\n",
    "        if q and q[0]<=i-k:\n",
    "            q.popleft()\n",
    "        while q and nums[q[-1]]<num:\n",
    "            q.pop()\n",
    "        q.append(i)\n",
    "        if i>=k-1:\n",
    "            ans.append(nums[q[0]])\n",
    "    return ans"
   ]
  },
  {
   "cell_type": "code",
   "execution_count": 725,
   "metadata": {},
   "outputs": [],
   "source": [
    "nums = [7,2,4]\n",
    "k = 2"
   ]
  },
  {
   "cell_type": "code",
   "execution_count": 726,
   "metadata": {},
   "outputs": [
    {
     "data": {
      "text/plain": [
       "[7, 4]"
      ]
     },
     "execution_count": 726,
     "metadata": {},
     "output_type": "execute_result"
    }
   ],
   "source": [
    "maxSlidingWindow(nums,k)"
   ]
  },
  {
   "cell_type": "markdown",
   "metadata": {},
   "source": [
    "# 合并K个升序链表"
   ]
  },
  {
   "cell_type": "code",
   "execution_count": 727,
   "metadata": {},
   "outputs": [],
   "source": [
    "def mergeKLists(lists):\n",
    "    if not lists:return \n",
    "    n = len(lists)\n",
    "    return merge(lists, 0, n-1)\n",
    "def merge(lists, left, right):\n",
    "    if left == right:\n",
    "        return lists[left]\n",
    "    mid = left + (right - left) // 2\n",
    "    l1 = merge(lists, left, mid)\n",
    "    l2 = merge(lists, mid+1, right)\n",
    "    return mergeTwoLists(l1, l2)\n",
    "def mergeTwoLists(l1, l2):\n",
    "    if not l1:return l2\n",
    "    if not l2:return l1\n",
    "    if l1.val < l2.val:\n",
    "        l1.next = mergeTwoLists(l1.next, l2)\n",
    "        return l1\n",
    "    else:\n",
    "        l2.next = mergeTwoLists(l1, l2.next)\n",
    "        return l2"
   ]
  },
  {
   "cell_type": "markdown",
   "metadata": {},
   "source": [
    "# 删除无效括号"
   ]
  },
  {
   "cell_type": "code",
   "execution_count": 728,
   "metadata": {},
   "outputs": [],
   "source": [
    "def removeInvalidParentheses(s):\n",
    "    if not s:return ['']\n",
    "    dp = [[[\"\"] for _ in range(len(s)+1)] for _ in range(len(s))]\n",
    "    for i in range(len(s)-1,-1,-1):\n",
    "        for j in range(i+1,len(s)+1):\n",
    "            tmp_s = s[i:j]\n",
    "            if len(tmp_s)==1:\n",
    "                if tmp_s not in \"()\":\n",
    "                    dp[i][j] = [tmp_s]\n",
    "                continue\n",
    "            res = set()\n",
    "            if tmp_s[0] == \"(\" and tmp_s[-1] == \")\":\n",
    "                res |= set([f'({a})' for a in dp[i+1][j-1]])\n",
    "            for k in range(i+1,j):\n",
    "                A,B = set(dp[i][k]),set(dp[k][j])\n",
    "                res |= {a+b for a in A for b in B}\n",
    "            p = len(max(res,key=len))\n",
    "            dp[i][j] = [a for a in res if len(a) == p]\n",
    "    return dp[0][-1]"
   ]
  },
  {
   "cell_type": "code",
   "execution_count": 729,
   "metadata": {},
   "outputs": [
    {
     "data": {
      "text/plain": [
       "['()()()', '(())()']"
      ]
     },
     "execution_count": 729,
     "metadata": {},
     "output_type": "execute_result"
    }
   ],
   "source": [
    "a = '()())()'\n",
    "removeInvalidParentheses(a)"
   ]
  },
  {
   "cell_type": "markdown",
   "metadata": {},
   "source": [
    "# 青蛙跳"
   ]
  },
  {
   "cell_type": "code",
   "execution_count": 731,
   "metadata": {},
   "outputs": [],
   "source": [
    "def canCross(stones):\n",
    "    def can(i,k):\n",
    "        if i>=len(stones):\n",
    "            return False\n",
    "        if i==len(stones)-1:\n",
    "            return True\n",
    "        if k<1:\n",
    "            return False\n",
    "        stones1,stones2,stones3 = False,False,False\n",
    "        if stones[i]+k in stones:\n",
    "            stones1 = can(stones.index(stones[i]+k),k)\n",
    "        if stones[i]+k+1 in stones:\n",
    "            stones2 = can(stones.index(stones[i]+k+1),k+1)\n",
    "        if stones[i]+k-1 in stones:\n",
    "            stones3 = can(stones.index(stones[i]+k-1),k-1)\n",
    "        return stones1 or stones2 or stones3\n",
    "    if stones[1] > 1:\n",
    "        return False\n",
    "    return can(stones[0]+1,1)"
   ]
  },
  {
   "cell_type": "code",
   "execution_count": 732,
   "metadata": {},
   "outputs": [],
   "source": [
    "nums = [0,1,2,3,4,5,6,7,8,9,10,11,12,13,14,15,16,17,18,19,20,21,22,23,24,25,26,27,28,29,30,31,32,33,34,35,36,37,38,39,40,41,42,43,44,45,46,47,48,49,50,51,52,53,54,55,56,57,58,59,60,61,62,63,64,65,66,67,68,69,70,71,72,73,74,75,76,77,78,79,80,81,82,83,84,85,86,87,88,89,90,91,92,93,94,95,96,97,98,99,100,101,102,103,104,105,106,107,108,109,110,111,112,113,114,115,116,117,118,119,120,121,122,123,124,125,126,127,128,129,130,131,132,133,134,135,136,137,138,139,140,141,142,143,144,145,146,147,148,149,150,151,152,153,154,155,156,157,158,159,160,161,162,163,164,165,166,167,168,169,170,171,172,173,174,175,176,177,178,179,180,181,182,183,184,185,186,187,188,189,190,191,192,193,194,195,196,197,198,199,200,201,202,203,204,205,206,207,208,209,210,211,212,213,214,215,216,217,218,219,220,221,222,223,224,225,226,227,228,229,230,231,232,233,234,235,236,237,238,239,240,241,242,243,244,245,246,247,248,249,250,251,252,253,254,255,256,257,258,259,260,261,262,263,264,265,266,267,268,269,270,271,272,273,274,275,276,277,278,279,280,281,282,283,284,285,286,287,288,289,290,291,292,293,294,295,296,297,298,299,300,301,302,303,304,305,306,307,308,309,310,311,312,313,314,315,316,317,318,319,320,321,322,323,324,325,326,327,328,329,330,331,332,333,334,335,336,337,338,339,340,341,342,343,344,345,346,347,348,349,350,351,352,353,354,355,356,357,358,359,360,361,362,363,364,365,366,367,368,369,370,371,372,373,374,375,376,377,378,379,380,381,382,383,384,385,386,387,388,389,390,391,392,393,394,395,396,397,398,399,400,401,402,403,404,405,406,407,408,409,410,411,412,413,414,415,416,417,418,419,420,421,422,423,424,425,426,427,428,429,430,431,432,433,434,435,436,437,438,439,440,441,442,443,444,445,446,447,448,449,450,451,452,453,454,455,456,457,458,459,460,461,462,463,464,465,466,467,468,469,470,471,472,473,474,475,476,477,478,479,480,481,482,483,484,485,486,487,488,489,490,491,492,493,494,495,496,497,498,499,500,501,502,503,504,505,506,507,508,509,510,511,512,513,514,515,516,517,518,519,520,521,522,523,524,525,526,527,528,529,530,531,532,533,534,535,536,537,538,539,540,541,542,543,544,545,546,547,548,549,550,551,552,553,554,555,556,557,558,559,560,561,562,563,564,565,566,567,568,569,570,571,572,573,574,575,576,577,578,579,580,581,582,583,584,585,586,587,588,589,590,591,592,593,594,595,596,597,598,599,600,601,602,603,604,605,606,607,608,609,610,611,612,613,614,615,616,617,618,619,620,621,622,623,624,625,626,627,628,629,630,631,632,633,634,635,636,637,638,639,640,641,642,643,644,645,646,647,648,649,650,651,652,653,654,655,656,657,658,659,660,661,662,663,664,665,666,667,668,669,670,671,672,673,674,675,676,677,678,679,680,681,682,683,684,685,686,687,688,689,690,691,692,693,694,695,696,697,698,699,700,701,702,703,704,705,706,707,708,709,710,711,712,713,714,715,716,717,718,719,720,721,722,723,724,725,726,727,728,729,730,731,732,733,734,735,736,737,738,739,740,741,742,743,744,745,746,747,748,749,750,751,752,753,754,755,756,757,758,759,760,761,762,763,764,765,766,767,768,769,770,771,772,773,774,775,776,777,778,779,780,781,782,783,784,785,786,787,788,789,790,791,792,793,794,795,796,797,798,799,800,801,802,803,804,805,806,807,808,809,810,811,812,813,814,815,816,817,818,819,820,821,822,823,824,825,826,827,828,829,830,831,832,833,834,835,836,837,838,839,840,841,842,843,844,845,846,847,848,849,850,851,852,853,854,855,856,857,858,859,860,861,862,863,864,865,866,867,868,869,870,871,872,873,874,875,876,877,878,879,880,881,882,883,884,885,886,887,888,889,890,891,892,893,894,895,896,897,898,899,900,901,902,903,904,905,906,907,908,909,910,911,912,913,914,915,916,917,918,919,920,921,922,923,924,925,926,927,928,929,930,931,932,933,934,935,936,937,938,939,940,941,942,943,944,945,946,947,948,949,950,951,952,953,954,955,956,957,958,959,960,961,962,963,964,965,966,967,968,969,970,971,972,973,974,975,976,977,978,979,980,981,982,983,984,985,986,987,988,989,990,991,992,993,994,995,996,997,998,999]"
   ]
  },
  {
   "cell_type": "code",
   "execution_count": 733,
   "metadata": {},
   "outputs": [
    {
     "name": "stderr",
     "output_type": "stream",
     "text": [
      "ERROR:root:Internal Python error in the inspect module.\n",
      "Below is the traceback from this internal error.\n",
      "\n",
      "\n",
      "KeyboardInterrupt\n",
      "\n"
     ]
    }
   ],
   "source": [
    "canCross(nums)"
   ]
  },
  {
   "cell_type": "code",
   "execution_count": 2,
   "metadata": {},
   "outputs": [],
   "source": [
    "#二叉树定义\n",
    "class TreeNode:\n",
    "    def __init__(self, x):\n",
    "        self.val = x\n",
    "        self.left = None\n",
    "        self.right = None"
   ]
  },
  {
   "cell_type": "markdown",
   "metadata": {},
   "source": [
    "# 生成由[1 : n]这n个数组成的所有二叉搜索树"
   ]
  },
  {
   "cell_type": "code",
   "execution_count": 73,
   "metadata": {},
   "outputs": [],
   "source": [
    "import collections\n",
    "def generateTrees(n):\n",
    "    \"\"\"\n",
    "    :type n: int\n",
    "    :rtype: List[TreeNode]\n",
    "    \"\"\"\n",
    "    res = []\n",
    "    if n < 1:\n",
    "        return res\n",
    "    else:\n",
    "        return generateBST(1, n)\n",
    "\n",
    "def serialize(root):\n",
    "    if not root: return \"[]\"\n",
    "    queue = collections.deque()\n",
    "    queue.append(root)\n",
    "    res = []\n",
    "    while queue:\n",
    "        node = queue.popleft()\n",
    "        if node:\n",
    "            res.append(str(node.val))\n",
    "            queue.append(node.left)\n",
    "            queue.append(node.right)\n",
    "        else: res.append(\"null\")\n",
    "    return '[' + ','.join(res) + ']'\n",
    "\n",
    "def generateBST(start, end):\n",
    "    res = []\n",
    "    if start > end:\n",
    "        res.append(None)\n",
    "        return res\n",
    "    else:\n",
    "        for i in range(start, end+1):\n",
    "            left_tree = generateBST(start, i-1)\n",
    "            right_tree = generateBST(i+1, end)\n",
    "            for left in left_tree:\n",
    "                for right in right_tree:\n",
    "                    root = TreeNode(i)\n",
    "                    root.left = left\n",
    "                    root.right = right\n",
    "                    res.append(root)\n",
    "    return res"
   ]
  },
  {
   "cell_type": "code",
   "execution_count": 74,
   "metadata": {},
   "outputs": [],
   "source": [
    "a = generateTrees(3)"
   ]
  },
  {
   "cell_type": "code",
   "execution_count": 75,
   "metadata": {},
   "outputs": [
    {
     "data": {
      "text/plain": [
       "['[1,null,2,null,3,null,null]',\n",
       " '[1,null,3,2,null,null,null]',\n",
       " '[2,1,3,null,null,null,null]',\n",
       " '[3,1,null,null,2,null,null]',\n",
       " '[3,2,null,1,null,null,null]']"
      ]
     },
     "execution_count": 75,
     "metadata": {},
     "output_type": "execute_result"
    }
   ],
   "source": [
    "[serialize(s) for s in a]"
   ]
  },
  {
   "cell_type": "code",
   "execution_count": 69,
   "metadata": {},
   "outputs": [
    {
     "data": {
      "text/plain": [
       "[<__main__.TreeNode at 0x109ee9860>,\n",
       " <__main__.TreeNode at 0x109ee9940>,\n",
       " <__main__.TreeNode at 0x109ee9390>,\n",
       " <__main__.TreeNode at 0x109ef6e80>,\n",
       " <__main__.TreeNode at 0x109ef6a90>]"
      ]
     },
     "execution_count": 69,
     "metadata": {},
     "output_type": "execute_result"
    }
   ],
   "source": [
    "a"
   ]
  },
  {
   "cell_type": "code",
   "execution_count": null,
   "metadata": {},
   "outputs": [],
   "source": []
  }
 ],
 "metadata": {
  "kernelspec": {
   "display_name": "Python [conda env:mrchef]",
   "language": "python",
   "name": "conda-env-mrchef-py"
  },
  "language_info": {
   "codemirror_mode": {
    "name": "ipython",
    "version": 3
   },
   "file_extension": ".py",
   "mimetype": "text/x-python",
   "name": "python",
   "nbconvert_exporter": "python",
   "pygments_lexer": "ipython3",
   "version": "3.6.2"
  }
 },
 "nbformat": 4,
 "nbformat_minor": 2
}
