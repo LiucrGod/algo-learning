{
 "cells": [
  {
   "cell_type": "markdown",
   "metadata": {},
   "source": [
    "# 跳跃游戏"
   ]
  },
  {
   "cell_type": "markdown",
   "metadata": {},
   "source": [
    "给一个数组，例如$[1,2,3,4,5]$，$a[i]$表示在该位置可以向前行走的最大距离，判断是否可以到达数组的最后一个元素"
   ]
  },
  {
   "cell_type": "markdown",
   "metadata": {},
   "source": [
    "$flag$表示能达到末尾的最后一个位置"
   ]
  },
  {
   "cell_type": "code",
   "execution_count": 10,
   "metadata": {},
   "outputs": [],
   "source": [
    "def canJump(nums):\n",
    "    flag = len(nums)-1\n",
    "    for i in range(len(nums)-2,-1,-1):\n",
    "        if i+nums[i]>=flag:\n",
    "            flag = i\n",
    "    if flag == 0:\n",
    "        return True\n",
    "    return False"
   ]
  },
  {
   "cell_type": "code",
   "execution_count": 11,
   "metadata": {},
   "outputs": [
    {
     "data": {
      "text/plain": [
       "True"
      ]
     },
     "execution_count": 11,
     "metadata": {},
     "output_type": "execute_result"
    }
   ],
   "source": [
    "nums = [2,5,0,0]\n",
    "canJump(nums)"
   ]
  },
  {
   "cell_type": "markdown",
   "metadata": {},
   "source": [
    "# AB两个排序数组，原地合并数组"
   ]
  },
  {
   "cell_type": "markdown",
   "metadata": {},
   "source": [
    "字符串切片和指针"
   ]
  },
  {
   "cell_type": "code",
   "execution_count": 186,
   "metadata": {},
   "outputs": [],
   "source": [
    "import copy\n",
    "def merge(A, m, B, n):\n",
    "    i = 0\n",
    "    del A[m:]\n",
    "    while i < len(A+B):\n",
    "        if not B:\n",
    "            break\n",
    "        elif not A:\n",
    "            A.insert(0,B[0])\n",
    "            B = B[1:]\n",
    "        elif B[0] < A[0]:\n",
    "            A.insert(0,B[0])\n",
    "            B = B[1:]\n",
    "            i -= 1\n",
    "        elif B[0] >= A[-1]:\n",
    "            print(A)\n",
    "            A.append(B[0])\n",
    "            B = B[1:]\n",
    "        elif B[0]>=A[i] and B[0]<=A[i+1]:\n",
    "            A.insert(i+1,B[0])\n",
    "            B = B[1:]\n",
    "        i += 1"
   ]
  },
  {
   "cell_type": "code",
   "execution_count": 187,
   "metadata": {},
   "outputs": [
    {
     "data": {
      "text/plain": [
       "[-1, 0, 0, 1, 2, 2, 3, 3, 3]"
      ]
     },
     "execution_count": 187,
     "metadata": {},
     "output_type": "execute_result"
    }
   ],
   "source": [
    "A = [-1,0,0,3,3,3,0,0,0]\n",
    "m = 6\n",
    "B = [1,2,2]\n",
    "n = 3\n",
    "merge(A, m, B, n)\n",
    "A"
   ]
  },
  {
   "cell_type": "markdown",
   "metadata": {},
   "source": [
    "# 一个数据先递增再递减，找出数组不重复的个数"
   ]
  },
  {
   "cell_type": "code",
   "execution_count": 272,
   "metadata": {},
   "outputs": [],
   "source": [
    "def search_nums(nums):\n",
    "    count = len(nums)\n",
    "    i,j = 0,count-1\n",
    "    while i<j:\n",
    "#         if nums[i]<nums[i-1] and nums[j]<nums[j-1]:\n",
    "        if nums[i] == nums[j]:\n",
    "            count -= 2\n",
    "            i += 1\n",
    "            j -= 1\n",
    "        elif nums[i]<nums[j]:\n",
    "            i +=1\n",
    "        else:\n",
    "            j -= 1\n",
    "    return count"
   ]
  },
  {
   "cell_type": "code",
   "execution_count": 273,
   "metadata": {},
   "outputs": [
    {
     "data": {
      "text/plain": [
       "7"
      ]
     },
     "execution_count": 273,
     "metadata": {},
     "output_type": "execute_result"
    }
   ],
   "source": [
    "a = [2,4,3,6,3,2,5,6,5]\n",
    "search_nums(a)"
   ]
  },
  {
   "cell_type": "markdown",
   "metadata": {},
   "source": [
    "# 排序算法"
   ]
  },
  {
   "cell_type": "markdown",
   "metadata": {},
   "source": [
    "插入排序"
   ]
  },
  {
   "cell_type": "markdown",
   "metadata": {},
   "source": [
    "将数字插入有序数组里，插入排序把待排序算法分为两部分，一部分是有序数组，一部分是待排序数组，插入排序是稳定的排序方法，时间复杂度为$O(n^2)$<br>\n",
    "通过pop和insert的方式达到移动元素的目的"
   ]
  },
  {
   "cell_type": "code",
   "execution_count": 286,
   "metadata": {},
   "outputs": [],
   "source": [
    "def insert_sort(nums):\n",
    "    for i in range(1,len(nums)):\n",
    "        for j in range(i):\n",
    "            if nums[i] <= nums[j]:\n",
    "                tmp_key = nums.pop(i)\n",
    "                nums.insert(j,tmp_key)\n",
    "    return nums"
   ]
  },
  {
   "cell_type": "code",
   "execution_count": 287,
   "metadata": {},
   "outputs": [
    {
     "data": {
      "text/plain": [
       "[3, 3, 5, 6, 7, 8, 56, 89, 98]"
      ]
     },
     "execution_count": 287,
     "metadata": {},
     "output_type": "execute_result"
    }
   ],
   "source": [
    "a = [6,3,8,3,5,7,98,56,89]\n",
    "insert_sort(a)"
   ]
  },
  {
   "cell_type": "markdown",
   "metadata": {},
   "source": [
    "直接选择排序"
   ]
  },
  {
   "cell_type": "markdown",
   "metadata": {},
   "source": [
    "基本思想：第1趟，在待排序记录r1 ~ r[n]中选出最小的记录，将它与r1交换；第2趟，在待排序记录r2 ~ r[n]中选出最小的记录，将它与r2交换；以此类推，第i趟在待排序记录r[i] ~ r[n]中选出最小的记录，将它与r[i]交换，使有序序列不断增长直到全部排序完毕。"
   ]
  },
  {
   "cell_type": "code",
   "execution_count": 393,
   "metadata": {},
   "outputs": [],
   "source": [
    "def select_sort(nums):\n",
    "    for i in range(len(nums)):\n",
    "        flag = i\n",
    "        for j in range(i+1,len(nums)):\n",
    "            if nums[flag]>=nums[j]:\n",
    "                flag = j\n",
    "        nums[i],nums[flag] = nums[flag],nums[i]\n",
    "    return nums"
   ]
  },
  {
   "cell_type": "code",
   "execution_count": 394,
   "metadata": {},
   "outputs": [
    {
     "data": {
      "text/plain": [
       "[3, 3, 5, 6, 7, 8, 56, 89, 98]"
      ]
     },
     "execution_count": 394,
     "metadata": {},
     "output_type": "execute_result"
    }
   ],
   "source": [
    "a = [6,3,8,3,5,7,98,56,89]\n",
    "select_sort(a)"
   ]
  },
  {
   "cell_type": "markdown",
   "metadata": {},
   "source": [
    "希尔排序"
   ]
  },
  {
   "cell_type": "markdown",
   "metadata": {},
   "source": [
    "希尔排序是不稳定排序算法，是直接选择排序的改进，希尔排序会对列表分组，取数据的间隔为size，降低分组的size，继续这个步骤，直到size变为1，列表也变得有序，初始size为列表长度的一半，每次减少，等于1时循环停止"
   ]
  },
  {
   "cell_type": "code",
   "execution_count": 368,
   "metadata": {},
   "outputs": [],
   "source": [
    "def hell_sort(nums):\n",
    "    gap = len(nums)>>1\n",
    "    while gap > 0:\n",
    "        for i in range(gap,len(nums)):\n",
    "            for j in range(i,0,-gap):\n",
    "                if nums[j]<=nums[j-gap]:\n",
    "                    nums[j],nums[j-gap] = nums[j-gap],nums[j]\n",
    "        gap >>= 1\n",
    "    return nums"
   ]
  },
  {
   "cell_type": "code",
   "execution_count": 419,
   "metadata": {},
   "outputs": [
    {
     "data": {
      "text/plain": [
       "[3, 3, 5, 6, 7, 8, 56, 89, 98]"
      ]
     },
     "execution_count": 419,
     "metadata": {},
     "output_type": "execute_result"
    }
   ],
   "source": [
    "a = [6,3,8,3,5,7,98,56,89]\n",
    "hell_sort(a)"
   ]
  },
  {
   "cell_type": "markdown",
   "metadata": {},
   "source": [
    "冒泡排序"
   ]
  },
  {
   "cell_type": "markdown",
   "metadata": {},
   "source": [
    "它重复地走访过要排序的数列，一次比较两个元素，如果他们的顺序错误就把他们交换过来。走访数列的工作是重复地进行直到没有再需要交换，也就是说该数列已经排序完成。"
   ]
  },
  {
   "cell_type": "code",
   "execution_count": 382,
   "metadata": {},
   "outputs": [],
   "source": [
    "def buble_sort(nums):\n",
    "    for i in range(len(nums)):\n",
    "        for j in range(i+1,len(nums)):\n",
    "            if nums[i]>=nums[j]:\n",
    "                nums[i],nums[j] = nums[j],nums[i]\n",
    "    return nums"
   ]
  },
  {
   "cell_type": "code",
   "execution_count": 383,
   "metadata": {},
   "outputs": [
    {
     "data": {
      "text/plain": [
       "[3, 3, 5, 6, 7, 8, 56, 89, 98]"
      ]
     },
     "execution_count": 383,
     "metadata": {},
     "output_type": "execute_result"
    }
   ],
   "source": [
    "a = [6,3,8,3,5,7,98,56,89]\n",
    "buble_sort(a)"
   ]
  },
  {
   "cell_type": "markdown",
   "metadata": {},
   "source": [
    "堆排序"
   ]
  },
  {
   "cell_type": "markdown",
   "metadata": {},
   "source": [
    "1.堆排序的重点是构建最大最小堆，堆的叶子节点一定小于根结点，同时第$i$个根结点的左叶子节点为$2*i+1$（python从位置0开始算），右叶子节点为$2*i+2$，根结点先和左叶子节点对比，在和右叶子节点对比<br>\n",
    "2.将最后一个数与root节点调换位置，root节点输出，进行调整，结果就是排序结果，同理，解决topK问题也是一样，topK是借助最小顶堆完成的，将第$k+1$个数字与root节点比较，如果比root节点大，则抛弃目前的堆顶，将数字加入堆，调整，遍历完序列后topK存在堆中"
   ]
  },
  {
   "cell_type": "code",
   "execution_count": 397,
   "metadata": {},
   "outputs": [],
   "source": [
    "def adjust_heap(L):\n",
    "    i = 0\n",
    "    while i < len(L):\n",
    "        if 2*i+1 > len(L)-1:\n",
    "            break\n",
    "        if L[i] < L[2*i+1]:\n",
    "            L[i],L[2*i+1] = L[2*i+1],L[i]\n",
    "        if 2*i+2 > len(L)-1:\n",
    "            break\n",
    "        if L[i] < L[2*i+2]:\n",
    "            L[i],L[2*i+2] = L[2*i+2],L[i]\n",
    "        i += 1\n",
    "    return L\n",
    "\n",
    "def heap_sort(nums):\n",
    "    result = []\n",
    "    while nums:\n",
    "        for i in range(len(nums)//2):#需要调整的次数来构造一个堆，代表每个有孩子的节点都要调整一次\n",
    "            nums = adjust_heap(nums)\n",
    "        nums[0],nums[-1] = nums[-1],nums[0]\n",
    "        result.append(nums[-1])\n",
    "        nums = nums[:-1]\n",
    "    return result"
   ]
  },
  {
   "cell_type": "code",
   "execution_count": 398,
   "metadata": {},
   "outputs": [
    {
     "data": {
      "text/plain": [
       "[98, 89, 56, 8, 7, 6, 5, 3, 3]"
      ]
     },
     "execution_count": 398,
     "metadata": {},
     "output_type": "execute_result"
    }
   ],
   "source": [
    "a = [6,3,8,3,5,7,98,56,89]\n",
    "heap_sort(a)"
   ]
  },
  {
   "cell_type": "markdown",
   "metadata": {},
   "source": [
    "快速排序"
   ]
  },
  {
   "cell_type": "markdown",
   "metadata": {},
   "source": [
    "快速排序的主要思想是分割，将待排序列表分割为两部分，前半部分全部小于选择的基数，后半部分全部大于选择的基数"
   ]
  },
  {
   "cell_type": "code",
   "execution_count": 417,
   "metadata": {},
   "outputs": [],
   "source": [
    "def quick_sort(nums,low,high):\n",
    "    if low>=high:\n",
    "        return nums\n",
    "    left = low\n",
    "    right = high\n",
    "    key = nums[left]#初始化key为left，此时left位置为空\n",
    "    while left < right:\n",
    "        while left < right and key <= nums[right]:\n",
    "            right -= 1\n",
    "        nums[left] = nums[right]#从右边找到第一个比key小的数字，填充到left位置，此时right是一个空位置\n",
    "        while left < right and key >= nums[left]:\n",
    "            left += 1\n",
    "        nums[right] = nums[left]#从左边找到第一个比key大的数字，填充到right位置，此时left是一个空位置\n",
    "    nums[left] = key#把第一次初始化的key填充到left\n",
    "    quick_sort(nums,low,left-1)#前半部分排序\n",
    "    quick_sort(nums,right+1,high)#后半部分排序\n",
    "    return nums"
   ]
  },
  {
   "cell_type": "code",
   "execution_count": 418,
   "metadata": {},
   "outputs": [
    {
     "data": {
      "text/plain": [
       "[3, 3, 5, 6, 7, 8, 56, 89, 98]"
      ]
     },
     "execution_count": 418,
     "metadata": {},
     "output_type": "execute_result"
    }
   ],
   "source": [
    "a = [6,3,8,3,5,7,98,56,89]\n",
    "quick_sort(a,0,len(a)-1)"
   ]
  },
  {
   "cell_type": "markdown",
   "metadata": {},
   "source": [
    "桶排序"
   ]
  },
  {
   "cell_type": "code",
   "execution_count": 9,
   "metadata": {},
   "outputs": [],
   "source": [
    "def bucket_sort(nums):\n",
    "    bucket = [0]*(max(nums)-min(nums)+1)\n",
    "    for i in range(len(nums)):\n",
    "        bucket[nums[i]-min(nums)]+=1\n",
    "    tmp = []\n",
    "    for i in range(len(bucket)):\n",
    "        if bucket[i] == 0:\n",
    "            continue\n",
    "        tmp+=[min(nums)+i]*bucket[i]\n",
    "    return tmp"
   ]
  },
  {
   "cell_type": "code",
   "execution_count": 10,
   "metadata": {},
   "outputs": [],
   "source": [
    "a = [6,3,8,3,5,7,98,56,89]"
   ]
  },
  {
   "cell_type": "code",
   "execution_count": 11,
   "metadata": {},
   "outputs": [
    {
     "data": {
      "text/plain": [
       "[3, 3, 5, 6, 7, 8, 56, 89, 98]"
      ]
     },
     "execution_count": 11,
     "metadata": {},
     "output_type": "execute_result"
    }
   ],
   "source": [
    "bucket_sort(a)"
   ]
  },
  {
   "cell_type": "code",
   "execution_count": 25,
   "metadata": {},
   "outputs": [],
   "source": [
    "#二叉树定义\n",
    "class TreeNode:\n",
    "    def __init__(self, x):\n",
    "        self.val = x\n",
    "        self.left = None\n",
    "        self.right = None"
   ]
  },
  {
   "cell_type": "markdown",
   "metadata": {},
   "source": [
    "# 重建二叉树"
   ]
  },
  {
   "cell_type": "code",
   "execution_count": 32,
   "metadata": {},
   "outputs": [],
   "source": [
    "def buildTree(preorder, inorder):\n",
    "    if not preorder or not inorder:\n",
    "        return None\n",
    "    head = TreeNode(preorder[0])\n",
    "    head.left = buildTree([node for node in preorder[1:] if node in inorder[:inorder.index(preorder[0])]],inorder[:inorder.index(preorder[0])])\n",
    "    head.right = buildTree([node for node in preorder[1:] if node not in inorder[:inorder.index(preorder[0])]],inorder[inorder.index(preorder[0])+1:])\n",
    "    return head"
   ]
  },
  {
   "cell_type": "code",
   "execution_count": 33,
   "metadata": {},
   "outputs": [],
   "source": [
    "preorder = [3,9,20,15,7]\n",
    "inorder = [9,3,15,20,7]\n",
    "head = buildTree(preorder, inorder)"
   ]
  },
  {
   "cell_type": "markdown",
   "metadata": {},
   "source": [
    "# 先序非递归"
   ]
  },
  {
   "cell_type": "code",
   "execution_count": 34,
   "metadata": {},
   "outputs": [],
   "source": [
    "def preOrderTravese(node):\n",
    "    stack = [node]\n",
    "    while len(stack) > 0:\n",
    "        print(node.val)\n",
    "        if node.right is not None:\n",
    "            stack.append(node.right)\n",
    "        if node.left is not None:\n",
    "            stack.append(node.left)\n",
    "        node = stack.pop()"
   ]
  },
  {
   "cell_type": "markdown",
   "metadata": {},
   "source": [
    "# 中序打印二叉树（非递归）"
   ]
  },
  {
   "cell_type": "code",
   "execution_count": 35,
   "metadata": {},
   "outputs": [],
   "source": [
    "def inOrderTraverse(node):\n",
    "    stack = []\n",
    "    pos = node\n",
    "    while pos is not None or len(stack) > 0:\n",
    "        while pos is not None:\n",
    "            stack.append(pos)\n",
    "            pos = pos.left\n",
    "        if stack:\n",
    "            pos = stack.pop()\n",
    "            print(pos.val)\n",
    "            pos = pos.right"
   ]
  },
  {
   "cell_type": "markdown",
   "metadata": {},
   "source": [
    "# 后序打印二叉树（非递归）"
   ]
  },
  {
   "cell_type": "code",
   "execution_count": 30,
   "metadata": {},
   "outputs": [],
   "source": [
    "def postOrderTraverse(node):\n",
    "    stack = [node]\n",
    "    stack2 = []\n",
    "    while len(stack) > 0:\n",
    "        node = stack.pop()\n",
    "        stack2.append(node)\n",
    "        if node.left is not None:\n",
    "            stack.append(node.left)\n",
    "        if node.right is not None:\n",
    "            stack.append(node.right)\n",
    "    while len(stack2) > 0:\n",
    "        print(stack2.pop().val)"
   ]
  },
  {
   "cell_type": "code",
   "execution_count": 36,
   "metadata": {},
   "outputs": [],
   "source": [
    "def bTreeDepth(node):\n",
    "    if node is None:\n",
    "        return 0\n",
    "    ldepth = bTreeDepth(node.left)\n",
    "    rdepth = bTreeDepth(node.right)\n",
    "    return (max(ldepth, rdepth) + 1)"
   ]
  },
  {
   "cell_type": "code",
   "execution_count": 37,
   "metadata": {},
   "outputs": [
    {
     "data": {
      "text/plain": [
       "3"
      ]
     },
     "execution_count": 37,
     "metadata": {},
     "output_type": "execute_result"
    }
   ],
   "source": [
    "bTreeDepth(head)"
   ]
  },
  {
   "cell_type": "markdown",
   "metadata": {},
   "source": [
    "# 二叉树最大路径和\n",
    "\n",
    "暴力解法：枚举2个节点，求节点之间的距离<br>\n",
    "1前序遍历<br>\n",
    "2.求根节点到所有的叶子节点的pathsum，遍历整棵树<br>\n",
    "3.求跟节点到叶子节点的最大深度，f(root) = f(left)  .... f(right)<br>\n",
    "父节点的解只跟子节点有关系，不关系具体内部实现<br>\n",
    "左右子数分离，任意两个节点的问题可以抽象成最近公共祖先的问题<br>"
   ]
  },
  {
   "cell_type": "code",
   "execution_count": 38,
   "metadata": {},
   "outputs": [],
   "source": [
    "def maxPathSum(root):\n",
    "    re = -2**31\n",
    "    \n",
    "    robot(root)\n",
    "    return re\n",
    "\n",
    "def robot(root):\n",
    "    if root == None:\n",
    "        return 0\n",
    "    left = max(0,robot(root.left))\n",
    "    right = max(0,robot(root.right))\n",
    "    re = max(re,root.val + left + right)\n",
    "    return max(root.val,root.val + max(left,right))"
   ]
  },
  {
   "cell_type": "code",
   "execution_count": 40,
   "metadata": {},
   "outputs": [],
   "source": [
    "#从上往下打印出二叉树的每个节点，同层节点从左至右打印\n",
    "def PrintFromTopToBottom(root):\n",
    "    array = []\n",
    "    result = []\n",
    "    if root == None:\n",
    "        return result\n",
    "    array.append(root)\n",
    "    while array:\n",
    "        newNode = array.pop(0)\n",
    "        result.append(newNode.val)\n",
    "        if newNode.left != None:  \n",
    "            array.append(newNode.left)\n",
    "        if newNode.right != None:\n",
    "            array.append(newNode.right)\n",
    "    return result"
   ]
  },
  {
   "cell_type": "code",
   "execution_count": 41,
   "metadata": {},
   "outputs": [
    {
     "data": {
      "text/plain": [
       "[3, 9, 20, 15, 7]"
      ]
     },
     "execution_count": 41,
     "metadata": {},
     "output_type": "execute_result"
    }
   ],
   "source": [
    "PrintFromTopToBottom(head)"
   ]
  },
  {
   "cell_type": "markdown",
   "metadata": {},
   "source": [
    "# 蛇形打印二叉树，先层序遍历，在将偶数层反转"
   ]
  },
  {
   "cell_type": "code",
   "execution_count": 44,
   "metadata": {},
   "outputs": [],
   "source": [
    "def zigzagLevelOrder(root):\n",
    "    if not root: return []\n",
    "    res = []\n",
    "    cur_level = [root]\n",
    "    depth = 0\n",
    "    while cur_level:\n",
    "        tmp = []\n",
    "        next_level = []\n",
    "        for node in cur_level:\n",
    "            tmp.append(node.val)\n",
    "            if node.left:\n",
    "                next_level.append(node.left)\n",
    "            if node.right:\n",
    "                next_level.append(node.right)\n",
    "        if depth % 2 == 1:\n",
    "            res.append(tmp[::-1])\n",
    "        else:\n",
    "            res.append(tmp)\n",
    "        depth += 1\n",
    "        cur_level = next_level\n",
    "    return res"
   ]
  },
  {
   "cell_type": "code",
   "execution_count": 45,
   "metadata": {},
   "outputs": [
    {
     "data": {
      "text/plain": [
       "[[3], [20, 9], [15, 7]]"
      ]
     },
     "execution_count": 45,
     "metadata": {},
     "output_type": "execute_result"
    }
   ],
   "source": [
    "zigzagLevelOrder(head)"
   ]
  },
  {
   "cell_type": "markdown",
   "metadata": {},
   "source": [
    "# 二叉树的最近公共祖先"
   ]
  },
  {
   "cell_type": "code",
   "execution_count": 48,
   "metadata": {},
   "outputs": [],
   "source": [
    "def lowestCommonAncestor(root, A, B):\n",
    "    # A&B=>LCA\n",
    "    # !A&!B=>None\n",
    "    # A&!B=>A\n",
    "    # B&!A=>B\n",
    "    if(root is None or root==A or root==B):\n",
    "        return root        #若root为空或者root为A或者root为B，说明找到了A和B其中一个\n",
    "    left=lowestCommonAncestor(root.left,A,B)\n",
    "    right=lowestCommonAncestor(root.right,A,B)\n",
    "    if left and right :\n",
    "        return root      #若左子树找到了A，右子树找到了B，说明此时的root就是公共祖先\n",
    "    if not left :    #若左子树是none右子树不是，说明右子树找到了A或B\n",
    "        return right\n",
    "    if not right :   #同理\n",
    "        return left"
   ]
  },
  {
   "cell_type": "markdown",
   "metadata": {},
   "source": [
    "# 给定一个二叉树和一个目标和，找到所有从根节点到叶子节点路径总和等于给定目标和的路径"
   ]
  },
  {
   "cell_type": "code",
   "execution_count": 5,
   "metadata": {},
   "outputs": [],
   "source": [
    "def pathSum(root, sum_):\n",
    "    if not root:\n",
    "        return []\n",
    "    result = []\n",
    "    stack_sum = []\n",
    "    stack_node = []\n",
    "    stack_sum.append([root.val])\n",
    "    stack_node.append(root)\n",
    "    while stack_sum and stack_node:\n",
    "        auxiliary_sum = stack_sum.pop()\n",
    "        auxiliary_node = stack_node.pop()\n",
    "        if auxiliary_node.left:\n",
    "            stack_sum.append(auxiliary_sum + [auxiliary_node.left.val])\n",
    "            stack_node.append(auxiliary_node.left)\n",
    "        if auxiliary_node.right:\n",
    "            stack_sum.append(auxiliary_sum + [auxiliary_node.right.val])\n",
    "            stack_node.append(auxiliary_node.right)\n",
    "        if not auxiliary_node.left and not auxiliary_node.right and sum(auxiliary_sum) == sum_:\n",
    "            result.append(auxiliary_sum)\n",
    "    return result"
   ]
  },
  {
   "cell_type": "markdown",
   "metadata": {},
   "source": [
    "# 二叉搜索树中第K小的元素\n",
    "通过构造中序遍历序列，则第 k-1 个元素就是第 k 小的元素。"
   ]
  },
  {
   "cell_type": "code",
   "execution_count": 54,
   "metadata": {},
   "outputs": [],
   "source": [
    "def kthSmallest(root, k):\n",
    "    def inorder(r):\n",
    "        return inorder(r.left) + [r.val] + inorder(r.right) if r else []\n",
    "    return inorder(root)[k - 1]"
   ]
  },
  {
   "cell_type": "markdown",
   "metadata": {},
   "source": [
    "# 两个栈实现一个队列"
   ]
  },
  {
   "cell_type": "code",
   "execution_count": 55,
   "metadata": {},
   "outputs": [],
   "source": [
    "class Queue:\n",
    "    def __init__(self):\n",
    "        self.stockA=[]\n",
    "        self.stockB=[]\n",
    "    def push(self, node):\n",
    "        self.stockA.append(node)\n",
    "    def pop(self):\n",
    "        if self.stockB==[]:\n",
    "            if self.stockA==[]:\n",
    "                return None\n",
    "            else:\n",
    "                for i in range(len(self.stockA)):\n",
    "                    self.stockB.append(self.stockA.pop())\n",
    "        return self.stockB.pop()"
   ]
  },
  {
   "cell_type": "markdown",
   "metadata": {},
   "source": [
    "# 反转链表"
   ]
  },
  {
   "cell_type": "code",
   "execution_count": 2,
   "metadata": {},
   "outputs": [],
   "source": [
    "def reverseList(head):\n",
    "    last = None\n",
    "    while head:\n",
    "        head.next, last, head = last, head, head.next\n",
    "    return last"
   ]
  },
  {
   "cell_type": "markdown",
   "metadata": {},
   "source": [
    "# k个一组反转链表"
   ]
  },
  {
   "cell_type": "code",
   "execution_count": 4,
   "metadata": {},
   "outputs": [],
   "source": [
    "def reverseKGroup(head, k):\n",
    "    if not head or not head.next:\n",
    "        return head\n",
    "\n",
    "    tail = head\n",
    "    for i in range(k):\n",
    "        # 剩余数量小于k的话，则不需要反转\n",
    "        if not tail:\n",
    "            return head\n",
    "        tail = tail.next\n",
    "    \n",
    "    # 反转前k个元素，将返回的头结点记为newHead\n",
    "    newHead = reverse(head, tail)\n",
    "    # 将head.next 赋为 递归上一步反转得到的newHead\n",
    "    head.next = reverseKGroup(tail, k)\n",
    "    return newHead\n",
    "\n",
    "# 翻转为左闭又开区间，所以本轮操作的尾结点其实就是下一轮操作的头结点\n",
    "def reverse(head, tail):\n",
    "    pre = None\n",
    "    while head != tail:\n",
    "        tmp = head.next\n",
    "        head.next = pre\n",
    "        pre = head\n",
    "        head = tmp\n",
    "    return pre"
   ]
  },
  {
   "cell_type": "markdown",
   "metadata": {},
   "source": [
    "# 判断链表是否有换，如果有，计算环的入口"
   ]
  },
  {
   "cell_type": "markdown",
   "metadata": {},
   "source": [
    "判断链表是否有环，设置一块一慢两个指针$lowPointer$，$highPointer$，$lowPointer$一次前进一步，$highPointer$一次前进两步，如果两个指针相遇，则说明链表有环。<br>\n",
    "如果链表存在环，我们可以设链表表头到环入口的长度为len，环的长度为R，第一次相遇的位置距环入口的距离为x<br>\n",
    "对于$lowPointer$，相遇时走过的距离为$d=len+x$<br>\n",
    "对于$highPointer$，由于速度是$lowPointer$的两倍，所以走过的距离也是$lowPointer$的两倍，相遇时至少已经在环中走过了$n$轮，其中$n>=1$，所以$highPointer$走过的距离为$2d=len+nR+x$<br>\n",
    "等式连立求解$2(len+x)=len+nR+x$<br>\n",
    "$2len+2x=len+nR+x$<br>\n",
    "$len+x=nR$<br>\n",
    "$len=nR-x$<br>\n",
    "所以初始化$lowPointer$为表头，$highPointer$为第一次相遇时候的位置，每次移动步长一样，则相遇时，$lowPointer$刚好走过len的长度，必定为环的入口。"
   ]
  },
  {
   "cell_type": "code",
   "execution_count": null,
   "metadata": {},
   "outputs": [],
   "source": [
    "def findLoop(head):\n",
    "    if not head:\n",
    "        return None\n",
    "    lowPointer = head\n",
    "    highPointer = head\n",
    "    loop = False\n",
    "    while lowPointer.next != None and highPointer.next.next != None:\n",
    "        lowPointer = lowPointer.next\n",
    "        highPointer = highPointer.next.next\n",
    "        if lowPointer == highPointer:\n",
    "            loop = True\n",
    "    if loop:\n",
    "        lowPointer = head\n",
    "        while lowPointer != highPointer:\n",
    "            lowPointer = lowPointer.next\n",
    "            highPointer = highPointer.next\n",
    "        return highPointer\n",
    "    return False"
   ]
  },
  {
   "cell_type": "markdown",
   "metadata": {},
   "source": [
    "# 有效括号 "
   ]
  },
  {
   "cell_type": "code",
   "execution_count": 8,
   "metadata": {},
   "outputs": [],
   "source": [
    "def isValid(s):\n",
    "    dic = {'{': '}',  '[': ']', '(': ')', '?': '?'}\n",
    "    stack = []\n",
    "    for c in s:\n",
    "        if c in dic: stack.append(c)\n",
    "        elif dic[stack.pop()] != c: return False \n",
    "    return len(stack) == 0"
   ]
  },
  {
   "cell_type": "markdown",
   "metadata": {},
   "source": [
    "# 最长括号"
   ]
  },
  {
   "cell_type": "code",
   "execution_count": 7,
   "metadata": {},
   "outputs": [],
   "source": [
    "def longestValidParentheses(self, s: str) -> int:\n",
    "    # 在刚才的方法上进行优化就好了，可以减少空间复杂度\n",
    "    stack = [-1]\n",
    "    res = 0\n",
    "    for i in range(len(s)):\n",
    "        if s[i] == '(':\n",
    "            stack.append(i)             ## 这种思路牛逼，不要传入什么字符串了，直接传入该括号的序号，然后一减就是长度了，牛逼～\n",
    "            continue                    ## 这个是用栈的最简单的方法了\n",
    "        stack.pop()\n",
    "        if not stack: stack.append(i)    \n",
    "        else:\n",
    "            # print(i, stack)\n",
    "            res = max(res, i - stack[-1])\n",
    "    return res"
   ]
  },
  {
   "cell_type": "markdown",
   "metadata": {},
   "source": [
    " LRU的算法是比较简单的，当对key进行访问时（一般有查询，更新，增加，在get()和set()两个方法中实现即可）时，将该key放到队列的最前端（或最后端）就行了，这样就实现了对key按其最后一次访问的时间降序（或升序）排列，当向空间中增加新对象时，如果空间满了，删除队尾（或队首）的对象。"
   ]
  },
  {
   "cell_type": "code",
   "execution_count": 56,
   "metadata": {},
   "outputs": [],
   "source": [
    "class LRUCache(object):\n",
    "    '''不能存储可变类型对象，不能并发访问set()'''\n",
    "  \n",
    "    def __init__(self,capacity):\n",
    "        self.l = []\n",
    "        self.d = {}\n",
    "        self.capacity = capacity\n",
    "          \n",
    "\n",
    "    def get(self,key):\n",
    "        if self.d.has_key(key):\n",
    "            value = self.d[key]\n",
    "            self.l.remove(key)\n",
    "            self.l.insert(0,key)\n",
    "        else:\n",
    "            value = None\n",
    "          \n",
    "        return value\n",
    "      \n",
    "\n",
    "    def set(self,key,value):\n",
    "        if self.d.has_key(key):\n",
    "            self.l.remove(key)\n",
    "        elif len(self.d) == self.capacity:\n",
    "                oldest_key = self.l.pop()\n",
    "                self.d.pop(oldest_key)\n",
    "                  \n",
    "        self.d[key] = value\n",
    "        self.l.insert(0, key)"
   ]
  },
  {
   "cell_type": "markdown",
   "metadata": {},
   "source": [
    "# 三数之和"
   ]
  },
  {
   "cell_type": "code",
   "execution_count": null,
   "metadata": {},
   "outputs": [],
   "source": [
    "def threeSum(nums):\n",
    "    nums.sort()\n",
    "    tuple_list = []\n",
    "    for i in range(len(nums)-2):\n",
    "        l = i+1\n",
    "        r = len(nums)-1\n",
    "        if nums[i] > 0:\n",
    "            break\n",
    "        if i>0 and nums[i] == nums[i-1]:\n",
    "            continue\n",
    "        while l<r:\n",
    "            result = nums[i]+nums[l]+nums[r]\n",
    "            if result > 0:\n",
    "                r -= 1\n",
    "                while l < r and nums[r]==nums[r+1]:\n",
    "                    r -= 1\n",
    "            elif result < 0:\n",
    "                l += 1\n",
    "                while l < r and nums[l]==nums[l-1]:\n",
    "                    l += 1\n",
    "            else:\n",
    "                tuple_list.append([nums[i],nums[l],nums[r]])\n",
    "                l += 1\n",
    "                r -= 1\n",
    "                while l < r and nums[l]==nums[l-1]:\n",
    "                    l += 1\n",
    "                while l < r and nums[r]==nums[r+1]:\n",
    "                    r -= 1\n",
    "    return tuple_list"
   ]
  },
  {
   "cell_type": "markdown",
   "metadata": {},
   "source": [
    "# 四数之和"
   ]
  },
  {
   "cell_type": "code",
   "execution_count": 6,
   "metadata": {},
   "outputs": [],
   "source": [
    "def fourSum(nums, target):\n",
    "    nums.sort()\n",
    "    nums_length = len(nums)\n",
    "    result = []\n",
    "    if not nums:\n",
    "        return []\n",
    "    if nums_length < 4:\n",
    "        return []\n",
    "    if nums_length == 4 and sum(nums)==target:\n",
    "        result.append(nums)\n",
    "        return result\n",
    "    i = 0\n",
    "    while i < nums_length-3:\n",
    "        if i > len(nums)-3:\n",
    "            return result \n",
    "        rest = target-nums[i]\n",
    "        first_num = nums[i]\n",
    "        j = i+1\n",
    "        while j < len(nums)-2:\n",
    "            l = j+1\n",
    "            r = len(nums)-1\n",
    "            while l < r:\n",
    "                three_sum = nums[j]+nums[l]+nums[r]\n",
    "                if three_sum == rest:\n",
    "                    line_list = [first_num,nums[j],nums[l],nums[r]]\n",
    "                    result.append(line_list)\n",
    "                    l += 1\n",
    "                    r -= 1\n",
    "                    while l<r and nums[l] == nums[l-1]:\n",
    "                        l += 1\n",
    "                    while l<r and nums[r]==nums[r+1]:\n",
    "                        r -= 1\n",
    "                if three_sum > rest:\n",
    "                    r -= 1\n",
    "                    while l < r and nums[r]==nums[r+1]:\n",
    "                        r -= 1\n",
    "                if three_sum < rest:\n",
    "                    l += 1\n",
    "                    while l < r and nums[l] == nums[l-1]:\n",
    "                        l += 1\n",
    "            j += 1\n",
    "            while j < len(nums)-2 and nums[j] == nums[j-1]:\n",
    "                j += 1\n",
    "        i += 1\n",
    "        while i < nums_length-3 and nums[i] == nums[i-1]:\n",
    "            print(i)\n",
    "            i += 1\n",
    "    return result"
   ]
  },
  {
   "cell_type": "markdown",
   "metadata": {},
   "source": [
    "# 单例模式"
   ]
  },
  {
   "cell_type": "code",
   "execution_count": 4,
   "metadata": {},
   "outputs": [],
   "source": [
    "def Singleton(cls):\n",
    "    _instance = {}\n",
    "\n",
    "    def _singleton(*args, **kargs):\n",
    "        if cls not in _instance:\n",
    "            _instance[cls] = cls(*args, **kargs)\n",
    "        return _instance[cls]\n",
    "\n",
    "    return _singleton\n",
    "\n",
    "\n",
    "@Singleton\n",
    "class A(object):\n",
    "    a = 1\n",
    "\n",
    "    def __init__(self, x=0):\n",
    "        self.x = x\n",
    "\n",
    "\n",
    "a1 = A(2)\n",
    "a2 = A(3)"
   ]
  },
  {
   "cell_type": "markdown",
   "metadata": {},
   "source": [
    "随机抽出一对样本（一个正样本，一个负样本），然后用训练得到的分类器来对这两个样本进行预测，预测得到正样本的概率大于负样本概率的概率。\n",
    "在有M个正样本,N个负样本的数据集里，利用公式求解："
   ]
  },
  {
   "cell_type": "code",
   "execution_count": 15,
   "metadata": {},
   "outputs": [
    {
     "name": "stdout",
     "output_type": "stream",
     "text": [
      "0.5666666666666667\n"
     ]
    }
   ],
   "source": [
    "def AUC(label, pre):\n",
    "    pos = [i for i in range(len(label)) if label[i] == 1]\n",
    "    neg = [i for i in range(len(label)) if label[i] == 0]\n",
    " \n",
    "    auc = 0\n",
    "    for i in pos:\n",
    "        for j in neg:\n",
    "            if pre[i] > pre[j]:\n",
    "                auc += 1\n",
    "            elif pre[i] == pre[j]:\n",
    "                auc += 0.5\n",
    " \n",
    "    return auc / (len(pos)*len(neg))\n",
    " \n",
    "label = [1,0,0,0,1,0,1,0]\n",
    "pre = [0.9, 0.8, 0.3, 0.1, 0.4, 0.9, 0.66, 0.7]\n",
    "print(AUC(label, pre))\n"
   ]
  },
  {
   "cell_type": "code",
   "execution_count": 1,
   "metadata": {},
   "outputs": [],
   "source": [
    "n,ht,t = 7,8,6"
   ]
  },
  {
   "cell_type": "code",
   "execution_count": 2,
   "metadata": {},
   "outputs": [],
   "source": [
    "hp = [16,19,7,11,23,8,16]"
   ]
  },
  {
   "cell_type": "code",
   "execution_count": 3,
   "metadata": {},
   "outputs": [],
   "source": [
    "hp = sorted(hp)"
   ]
  },
  {
   "cell_type": "code",
   "execution_count": 14,
   "metadata": {},
   "outputs": [
    {
     "name": "stdout",
     "output_type": "stream",
     "text": [
      "7 8 6\n",
      "16 19 7 11 23 8 16\n",
      "4\n"
     ]
    }
   ],
   "source": [
    "a = list(map(int,input().split()))\n",
    "n,ht,t = a[0],a[1],a[2]\n",
    "hp = list(map(int,input().split()))\n",
    "hp = sorted(hp)\n",
    "import math\n",
    "count_time = 0\n",
    "count = 0\n",
    "for h in hp:\n",
    "    if count_time >= t:\n",
    "        break\n",
    "    temp = math.ceil(h / ht)\n",
    "    count_time += temp\n",
    "    count += 1\n",
    "print(count)"
   ]
  },
  {
   "cell_type": "code",
   "execution_count": 60,
   "metadata": {},
   "outputs": [],
   "source": [
    "def rotate(matrix):\n",
    "    \"\"\"\n",
    "    Do not return anything, modify matrix in-place instead.\n",
    "    \"\"\"\n",
    "    for i in range(len(matrix)):\n",
    "        for j in range(i,len(matrix[i])):\n",
    "            matrix[i][j],matrix[j][i] = matrix[j][i],matrix[i][j]\n",
    "    return [atr[::-1] for atr in matrix]"
   ]
  },
  {
   "cell_type": "code",
   "execution_count": 61,
   "metadata": {},
   "outputs": [],
   "source": [
    "a = [[1,2,3],[4,5,6],[7,8,9]]"
   ]
  },
  {
   "cell_type": "markdown",
   "metadata": {},
   "source": [
    "# 课程表"
   ]
  },
  {
   "cell_type": "markdown",
   "metadata": {},
   "source": [
    "拓扑排序"
   ]
  },
  {
   "cell_type": "code",
   "execution_count": null,
   "metadata": {},
   "outputs": [],
   "source": [
    "from collections import defaultdict\n",
    "def canFinish(numCourses, prerequisites):\n",
    "    graph = defaultdict(list)\n",
    "    for atr in prerequisites:\n",
    "        graph[atr[0]].append(atr[1])\n",
    "    print(graph)\n",
    "    def dfs(v,visited,stack):\n",
    "        visited[v] = True\n",
    "        for c in graph[v]:\n",
    "            if visited[c]==False:\n",
    "                dfs(c,visited,stack)\n",
    "        stack.insert(0,v)\n",
    "    visited = [False]*numCourses\n",
    "    stack = []\n",
    "    for key in range(len(visited)):\n",
    "        if visited[key]==False:\n",
    "            dfs(key,visited,stack)\n",
    "    for atr in prerequisites:\n",
    "        if stack.index(atr[0])>stack.index(atr[1]):\n",
    "            return False\n",
    "    return True"
   ]
  },
  {
   "cell_type": "markdown",
   "metadata": {},
   "source": [
    "# 单词接龙"
   ]
  },
  {
   "cell_type": "raw",
   "metadata": {},
   "source": [
    "每次替换不用考虑具体替换成哪个字符，只需要去掉该位置后，能否和另一个去掉位置匹配，比如：<br>\n",
    "hit可以分成_it,h_t,hi_,hot可以分成_ot,h_t,ho_"
   ]
  },
  {
   "cell_type": "code",
   "execution_count": 64,
   "metadata": {},
   "outputs": [],
   "source": [
    "from collections import defaultdict\n",
    "def ladderLength(beginWord, endWord, wordList):\n",
    "    word_dic = defaultdict(list)\n",
    "    for word in wordList:\n",
    "        for i in range(len(word)):\n",
    "            key = word[:i]+'_'+word[i+1:]\n",
    "            word_dic[key].append(word)\n",
    "    if endWord not in wordList:\n",
    "        return 0\n",
    "    q,visited =[(beginWord, 1)], []\n",
    "    while q:\n",
    "        tmp_word,step = q.pop(0)\n",
    "        if tmp_word not in visited:\n",
    "            visited.append(tmp_word)\n",
    "            if tmp_word==endWord:\n",
    "                return step\n",
    "            for i in range(len(tmp_word)):\n",
    "                key = tmp_word[:i]+'_'+tmp_word[i+1:]\n",
    "                for w in word_dic[key]:\n",
    "                    q.append((w,step+1))\n",
    "    return 0"
   ]
  },
  {
   "cell_type": "code",
   "execution_count": 65,
   "metadata": {
    "scrolled": true
   },
   "outputs": [
    {
     "data": {
      "text/plain": [
       "5"
      ]
     },
     "execution_count": 65,
     "metadata": {},
     "output_type": "execute_result"
    }
   ],
   "source": [
    "beginWord = \"hit\"\n",
    "endWord = \"cog\"\n",
    "wordList = [\"hot\",\"dot\",\"dog\",\"lot\",\"log\",\"cog\"]\n",
    "ladderLength(beginWord, endWord, wordList)"
   ]
  },
  {
   "cell_type": "code",
   "execution_count": 69,
   "metadata": {},
   "outputs": [],
   "source": [
    "def findCircleNum(M):\n",
    "    n = len(M)\n",
    "    visited = [0]*n\n",
    "    res = 0\n",
    "    \n",
    "    def dfs(i):\n",
    "        for j in range(n):\n",
    "            if M[i][j] and visited[j] == 0:\n",
    "                visited[j] = 1\n",
    "                dfs(j)\n",
    "            \n",
    "    for i in range(n):\n",
    "        if visited[i]  0:\n",
    "            dfs(i)\n",
    "            res += 1\n",
    "            \n",
    "    return res"
   ]
  },
  {
   "cell_type": "code",
   "execution_count": 70,
   "metadata": {},
   "outputs": [],
   "source": [
    "M=[[1,0,0,1],[0,1,1,0],[0,1,1,1],[1,0,1,1]]"
   ]
  },
  {
   "cell_type": "code",
   "execution_count": 79,
   "metadata": {},
   "outputs": [
    {
     "data": {
      "text/plain": [
       "1"
      ]
     },
     "execution_count": 79,
     "metadata": {},
     "output_type": "execute_result"
    }
   ],
   "source": [
    "findCircleNum(M)"
   ]
  },
  {
   "cell_type": "markdown",
   "metadata": {},
   "source": [
    "# 有序数组查找中位数"
   ]
  }
 ],
 "metadata": {
  "kernelspec": {
   "display_name": "Python [conda env:mrchef]",
   "language": "python",
   "name": "conda-env-mrchef-py"
  },
  "language_info": {
   "codemirror_mode": {
    "name": "ipython",
    "version": 3
   },
   "file_extension": ".py",
   "mimetype": "text/x-python",
   "name": "python",
   "nbconvert_exporter": "python",
   "pygments_lexer": "ipython3",
   "version": "3.6.2"
  }
 },
 "nbformat": 4,
 "nbformat_minor": 2
}
